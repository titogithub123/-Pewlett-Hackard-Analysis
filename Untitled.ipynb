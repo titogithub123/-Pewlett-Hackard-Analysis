{
 "cells": [
  {
   "cell_type": "code",
   "execution_count": 20,
   "id": "3691ac2e-4cbf-4dbc-9116-e9a751d27b53",
   "metadata": {},
   "outputs": [],
   "source": [
    "import pandas as pd"
   ]
  },
  {
   "cell_type": "code",
   "execution_count": 21,
   "id": "68dc3485-9980-4c2e-b98d-a6d974b883d6",
   "metadata": {},
   "outputs": [],
   "source": [
    "unique_titles = pd.read_csv('data/unique_titles.csv')"
   ]
  },
  {
   "cell_type": "code",
   "execution_count": 22,
   "id": "b2fe2ea5-c38f-4c7c-a59d-6071b9fc15c5",
   "metadata": {},
   "outputs": [],
   "source": [
    "unique_titles_df = pd.DataFrame(unique_titles)"
   ]
  },
  {
   "cell_type": "code",
   "execution_count": 23,
   "id": "9af2adb1-da1c-4af8-be28-a0c8b5ab6ee5",
   "metadata": {},
   "outputs": [
    {
     "data": {
      "text/html": [
       "<div>\n",
       "<style scoped>\n",
       "    .dataframe tbody tr th:only-of-type {\n",
       "        vertical-align: middle;\n",
       "    }\n",
       "\n",
       "    .dataframe tbody tr th {\n",
       "        vertical-align: top;\n",
       "    }\n",
       "\n",
       "    .dataframe thead th {\n",
       "        text-align: right;\n",
       "    }\n",
       "</style>\n",
       "<table border=\"1\" class=\"dataframe\">\n",
       "  <thead>\n",
       "    <tr style=\"text-align: right;\">\n",
       "      <th></th>\n",
       "      <th>emp_no</th>\n",
       "      <th>first_name</th>\n",
       "      <th>last_name</th>\n",
       "      <th>title</th>\n",
       "    </tr>\n",
       "  </thead>\n",
       "  <tbody>\n",
       "    <tr>\n",
       "      <th>0</th>\n",
       "      <td>10001</td>\n",
       "      <td>Georgi</td>\n",
       "      <td>Facello</td>\n",
       "      <td>Senior Engineer</td>\n",
       "    </tr>\n",
       "    <tr>\n",
       "      <th>1</th>\n",
       "      <td>10004</td>\n",
       "      <td>Chirstian</td>\n",
       "      <td>Koblick</td>\n",
       "      <td>Senior Engineer</td>\n",
       "    </tr>\n",
       "    <tr>\n",
       "      <th>2</th>\n",
       "      <td>10005</td>\n",
       "      <td>Kyoichi</td>\n",
       "      <td>Maliniak</td>\n",
       "      <td>Senior Staff</td>\n",
       "    </tr>\n",
       "    <tr>\n",
       "      <th>3</th>\n",
       "      <td>10006</td>\n",
       "      <td>Anneke</td>\n",
       "      <td>Preusig</td>\n",
       "      <td>Senior Engineer</td>\n",
       "    </tr>\n",
       "    <tr>\n",
       "      <th>4</th>\n",
       "      <td>10009</td>\n",
       "      <td>Sumant</td>\n",
       "      <td>Peac</td>\n",
       "      <td>Senior Engineer</td>\n",
       "    </tr>\n",
       "    <tr>\n",
       "      <th>5</th>\n",
       "      <td>10011</td>\n",
       "      <td>Mary</td>\n",
       "      <td>Sluis</td>\n",
       "      <td>Staff</td>\n",
       "    </tr>\n",
       "    <tr>\n",
       "      <th>6</th>\n",
       "      <td>10018</td>\n",
       "      <td>Kazuhide</td>\n",
       "      <td>Peha</td>\n",
       "      <td>Senior Engineer</td>\n",
       "    </tr>\n",
       "    <tr>\n",
       "      <th>7</th>\n",
       "      <td>10019</td>\n",
       "      <td>Lillian</td>\n",
       "      <td>Haddadi</td>\n",
       "      <td>Staff</td>\n",
       "    </tr>\n",
       "    <tr>\n",
       "      <th>8</th>\n",
       "      <td>10020</td>\n",
       "      <td>Mayuko</td>\n",
       "      <td>Warwick</td>\n",
       "      <td>Engineer</td>\n",
       "    </tr>\n",
       "    <tr>\n",
       "      <th>9</th>\n",
       "      <td>10022</td>\n",
       "      <td>Shahaf</td>\n",
       "      <td>Famili</td>\n",
       "      <td>Engineer</td>\n",
       "    </tr>\n",
       "  </tbody>\n",
       "</table>\n",
       "</div>"
      ],
      "text/plain": [
       "   emp_no first_name last_name            title\n",
       "0   10001     Georgi   Facello  Senior Engineer\n",
       "1   10004  Chirstian   Koblick  Senior Engineer\n",
       "2   10005    Kyoichi  Maliniak     Senior Staff\n",
       "3   10006     Anneke   Preusig  Senior Engineer\n",
       "4   10009     Sumant      Peac  Senior Engineer\n",
       "5   10011       Mary     Sluis            Staff\n",
       "6   10018   Kazuhide      Peha  Senior Engineer\n",
       "7   10019    Lillian   Haddadi            Staff\n",
       "8   10020     Mayuko   Warwick         Engineer\n",
       "9   10022     Shahaf    Famili         Engineer"
      ]
     },
     "execution_count": 23,
     "metadata": {},
     "output_type": "execute_result"
    }
   ],
   "source": [
    "unique_titles_df.head(10)"
   ]
  },
  {
   "cell_type": "code",
   "execution_count": 24,
   "id": "0240eb9f-3ac9-4b41-96e9-5e87bbac5c83",
   "metadata": {},
   "outputs": [],
   "source": [
    "retiring_titles = pd.read_csv('data/retiring_titles.csv')"
   ]
  },
  {
   "cell_type": "code",
   "execution_count": 25,
   "id": "7fed8842-ce8e-4b37-a1d3-a13bc2c0bab2",
   "metadata": {},
   "outputs": [],
   "source": [
    "retiring_titles_df = pd.DataFrame(retiring_titles)"
   ]
  },
  {
   "cell_type": "code",
   "execution_count": 26,
   "id": "96db4c24-d04a-4bc1-b675-e4eda694b65a",
   "metadata": {},
   "outputs": [
    {
     "data": {
      "text/html": [
       "<div>\n",
       "<style scoped>\n",
       "    .dataframe tbody tr th:only-of-type {\n",
       "        vertical-align: middle;\n",
       "    }\n",
       "\n",
       "    .dataframe tbody tr th {\n",
       "        vertical-align: top;\n",
       "    }\n",
       "\n",
       "    .dataframe thead th {\n",
       "        text-align: right;\n",
       "    }\n",
       "</style>\n",
       "<table border=\"1\" class=\"dataframe\">\n",
       "  <thead>\n",
       "    <tr style=\"text-align: right;\">\n",
       "      <th></th>\n",
       "      <th>count</th>\n",
       "      <th>title</th>\n",
       "    </tr>\n",
       "  </thead>\n",
       "  <tbody>\n",
       "    <tr>\n",
       "      <th>0</th>\n",
       "      <td>29414</td>\n",
       "      <td>Senior Engineer</td>\n",
       "    </tr>\n",
       "    <tr>\n",
       "      <th>1</th>\n",
       "      <td>28254</td>\n",
       "      <td>Senior Staff</td>\n",
       "    </tr>\n",
       "    <tr>\n",
       "      <th>2</th>\n",
       "      <td>14222</td>\n",
       "      <td>Engineer</td>\n",
       "    </tr>\n",
       "    <tr>\n",
       "      <th>3</th>\n",
       "      <td>12243</td>\n",
       "      <td>Staff</td>\n",
       "    </tr>\n",
       "    <tr>\n",
       "      <th>4</th>\n",
       "      <td>4502</td>\n",
       "      <td>Technique Leader</td>\n",
       "    </tr>\n",
       "    <tr>\n",
       "      <th>5</th>\n",
       "      <td>1761</td>\n",
       "      <td>Assistant Engineer</td>\n",
       "    </tr>\n",
       "    <tr>\n",
       "      <th>6</th>\n",
       "      <td>2</td>\n",
       "      <td>Manager</td>\n",
       "    </tr>\n",
       "  </tbody>\n",
       "</table>\n",
       "</div>"
      ],
      "text/plain": [
       "   count               title\n",
       "0  29414     Senior Engineer\n",
       "1  28254        Senior Staff\n",
       "2  14222            Engineer\n",
       "3  12243               Staff\n",
       "4   4502    Technique Leader\n",
       "5   1761  Assistant Engineer\n",
       "6      2             Manager"
      ]
     },
     "execution_count": 26,
     "metadata": {},
     "output_type": "execute_result"
    }
   ],
   "source": [
    "retiring_titles_df"
   ]
  },
  {
   "cell_type": "code",
   "execution_count": 27,
   "id": "96a08589-7f54-40d2-a806-d04518ef996e",
   "metadata": {},
   "outputs": [
    {
     "data": {
      "text/plain": [
       "count                                                90398\n",
       "title    Senior EngineerSenior StaffEngineerStaffTechni...\n",
       "dtype: object"
      ]
     },
     "execution_count": 27,
     "metadata": {},
     "output_type": "execute_result"
    }
   ],
   "source": [
    "retiring_titles_df.sum()"
   ]
  },
  {
   "cell_type": "code",
   "execution_count": 28,
   "id": "979ee9c3-6732-409c-b1c4-1b931741ebb1",
   "metadata": {},
   "outputs": [
    {
     "data": {
      "text/plain": [
       "count    12914.0\n",
       "dtype: float64"
      ]
     },
     "execution_count": 28,
     "metadata": {},
     "output_type": "execute_result"
    }
   ],
   "source": [
    "retiring_titles_df.mean()"
   ]
  },
  {
   "cell_type": "code",
   "execution_count": 29,
   "id": "26765488-7eaf-47c6-a773-e93c0ae190ae",
   "metadata": {},
   "outputs": [],
   "source": [
    "mentorship = pd.read_csv('data/mentorship_eligibility.csv')"
   ]
  },
  {
   "cell_type": "code",
   "execution_count": 30,
   "id": "2644c6ca-bf55-4c0d-a422-cf6e0e5bfb39",
   "metadata": {},
   "outputs": [],
   "source": [
    "mentorship_df = pd.DataFrame(mentorship)"
   ]
  },
  {
   "cell_type": "code",
   "execution_count": 31,
   "id": "0cfe6a65-0a12-418c-9991-576abd111197",
   "metadata": {},
   "outputs": [
    {
     "data": {
      "text/html": [
       "<div>\n",
       "<style scoped>\n",
       "    .dataframe tbody tr th:only-of-type {\n",
       "        vertical-align: middle;\n",
       "    }\n",
       "\n",
       "    .dataframe tbody tr th {\n",
       "        vertical-align: top;\n",
       "    }\n",
       "\n",
       "    .dataframe thead th {\n",
       "        text-align: right;\n",
       "    }\n",
       "</style>\n",
       "<table border=\"1\" class=\"dataframe\">\n",
       "  <thead>\n",
       "    <tr style=\"text-align: right;\">\n",
       "      <th></th>\n",
       "      <th>emp_no</th>\n",
       "      <th>first_name</th>\n",
       "      <th>last_name</th>\n",
       "      <th>birth_date</th>\n",
       "      <th>from_date</th>\n",
       "      <th>to_date</th>\n",
       "      <th>title</th>\n",
       "    </tr>\n",
       "  </thead>\n",
       "  <tbody>\n",
       "    <tr>\n",
       "      <th>0</th>\n",
       "      <td>10095</td>\n",
       "      <td>Hilari</td>\n",
       "      <td>Morton</td>\n",
       "      <td>1965-01-03</td>\n",
       "      <td>1994-03-10</td>\n",
       "      <td>9999-01-01</td>\n",
       "      <td>Staff</td>\n",
       "    </tr>\n",
       "    <tr>\n",
       "      <th>1</th>\n",
       "      <td>10122</td>\n",
       "      <td>Ohad</td>\n",
       "      <td>Esposito</td>\n",
       "      <td>1965-01-19</td>\n",
       "      <td>1998-08-06</td>\n",
       "      <td>9999-01-01</td>\n",
       "      <td>Technique Leader</td>\n",
       "    </tr>\n",
       "    <tr>\n",
       "      <th>2</th>\n",
       "      <td>10291</td>\n",
       "      <td>Dipayan</td>\n",
       "      <td>Seghrouchni</td>\n",
       "      <td>1965-01-23</td>\n",
       "      <td>1987-03-30</td>\n",
       "      <td>9999-01-01</td>\n",
       "      <td>Staff</td>\n",
       "    </tr>\n",
       "    <tr>\n",
       "      <th>3</th>\n",
       "      <td>10476</td>\n",
       "      <td>Kokou</td>\n",
       "      <td>Iisaka</td>\n",
       "      <td>1965-01-01</td>\n",
       "      <td>1987-09-20</td>\n",
       "      <td>9999-01-01</td>\n",
       "      <td>Staff</td>\n",
       "    </tr>\n",
       "    <tr>\n",
       "      <th>4</th>\n",
       "      <td>10663</td>\n",
       "      <td>Teunis</td>\n",
       "      <td>Noriega</td>\n",
       "      <td>1965-01-09</td>\n",
       "      <td>1999-02-12</td>\n",
       "      <td>9999-01-01</td>\n",
       "      <td>Technique Leader</td>\n",
       "    </tr>\n",
       "  </tbody>\n",
       "</table>\n",
       "</div>"
      ],
      "text/plain": [
       "   emp_no first_name    last_name  birth_date   from_date     to_date  \\\n",
       "0   10095     Hilari       Morton  1965-01-03  1994-03-10  9999-01-01   \n",
       "1   10122       Ohad     Esposito  1965-01-19  1998-08-06  9999-01-01   \n",
       "2   10291    Dipayan  Seghrouchni  1965-01-23  1987-03-30  9999-01-01   \n",
       "3   10476      Kokou       Iisaka  1965-01-01  1987-09-20  9999-01-01   \n",
       "4   10663     Teunis      Noriega  1965-01-09  1999-02-12  9999-01-01   \n",
       "\n",
       "              title  \n",
       "0             Staff  \n",
       "1  Technique Leader  \n",
       "2             Staff  \n",
       "3             Staff  \n",
       "4  Technique Leader  "
      ]
     },
     "execution_count": 31,
     "metadata": {},
     "output_type": "execute_result"
    }
   ],
   "source": [
    "mentorship_df.head(5)"
   ]
  },
  {
   "cell_type": "code",
   "execution_count": 32,
   "id": "69dabd3c-946e-4c8a-9000-5bf4479516d7",
   "metadata": {},
   "outputs": [
    {
     "data": {
      "text/plain": [
       "emp_no        1549\n",
       "first_name    1549\n",
       "last_name     1549\n",
       "birth_date    1549\n",
       "from_date     1549\n",
       "to_date       1549\n",
       "title         1549\n",
       "dtype: int64"
      ]
     },
     "execution_count": 32,
     "metadata": {},
     "output_type": "execute_result"
    }
   ],
   "source": [
    "mentorship_df.count()"
   ]
  },
  {
   "cell_type": "code",
   "execution_count": 39,
   "id": "b0f4f231-fdf1-4a76-8f03-6eece6c6c01e",
   "metadata": {},
   "outputs": [
    {
     "data": {
      "text/plain": [
       "88849"
      ]
     },
     "execution_count": 39,
     "metadata": {},
     "output_type": "execute_result"
    }
   ],
   "source": [
    "(90398 - 1549)"
   ]
  },
  {
   "cell_type": "code",
   "execution_count": 41,
   "id": "3c62d12e-82a9-4ee0-9d1e-caedb97a4d37",
   "metadata": {},
   "outputs": [
    {
     "data": {
      "text/plain": [
       "58.35894125242092"
      ]
     },
     "execution_count": 41,
     "metadata": {},
     "output_type": "execute_result"
    }
   ],
   "source": [
    "90398/1549"
   ]
  },
  {
   "cell_type": "code",
   "execution_count": null,
   "id": "4d1e59cd-2f4b-4f16-9cf8-77e9bbaf6244",
   "metadata": {},
   "outputs": [],
   "source": []
  }
 ],
 "metadata": {
  "kernelspec": {
   "display_name": "Python 3",
   "language": "python",
   "name": "python3"
  },
  "language_info": {
   "codemirror_mode": {
    "name": "ipython",
    "version": 3
   },
   "file_extension": ".py",
   "mimetype": "text/x-python",
   "name": "python",
   "nbconvert_exporter": "python",
   "pygments_lexer": "ipython3",
   "version": "3.8.8"
  }
 },
 "nbformat": 4,
 "nbformat_minor": 5
}
